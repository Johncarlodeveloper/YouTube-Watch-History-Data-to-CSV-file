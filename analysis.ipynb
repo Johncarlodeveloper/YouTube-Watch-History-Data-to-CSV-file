{
 "cells": [
  {
   "metadata": {},
   "cell_type": "markdown",
   "source": [
    "# YouTube Watch History Data Analysis\n",
    "\n",
    "### Introduction\n",
    "\n",
    "YouTube has become an essential part of many people's daily lives. It serves as a platform for entertainment, learning, and relaxation. This project focuses on analyzing YouTube watch history data to gain insights into viewing patterns and habits.\n",
    "\n",
    "### Project Goals\n",
    "The project aims to achieve both general descriptive approaches and more personalized analyses to provide a comprehensive understanding of YouTube usage habits.\n",
    "\n",
    "In general, I'd like to:\n",
    "\n",
    "1. **Quantify Viewing Activity**: Determine the total number of videos watched and the total watch hours over the specified period.\n",
    "2. **Explore Daily Viewing Patterns**: Calculate the average time spent watching YouTube videos each day.\n",
    "3. **Identify Most Watched Videos**: Determine the most watched videos on the YouTube history data based on the number of views.\n",
    "4. **Analyze Video Titles**: Extract and analyze the most common keywords in video titles to identify recurring themes.\n",
    "5. **Discover Peak Viewing Days**: Identify the specific days when the highest number of videos were watched and the number of likes received.\n",
    "6. **Know the longest timeframe where you haven't used YouTube**.\n",
    "7. **Find the most viewed, liked, or commented videos watched**.\n",
    "8. **Show the longest video watched**.\n",
    "9. **Get to know favorite channels**.\n",
    "10. **Analyze each tag from videos**.\n",
    "11. **Analyze the distribution of watch times throughout the day**.\n",
    "12. **Identify trends in video consumption over different time periods (daily, weekly, monthly)**.\n",
    "\n",
    "Additionally, I will perform more personalized analysis through my own YouTube History data along the way.\n",
    "\n",
    "\n",
    "### The source dataset\n",
    "\n",
    "The dataset for this analysis was created using a two-step process that involved web scraping and API requests to gather comprehensive information about my YouTube watch history.\n",
    "\n",
    "First, I used a Python script called youtube_scraper.py to extract data from an HTML file of my YouTube History. This HTML file was obtained through Google Takeout, which provides a detailed export of a user's YouTube activity. Using the BeautifulSoup library, the script parsed the HTML file to extract essential information for each video, including the video title, URL, the time it was played, the channel that posted it, and the channel's URL. This information was then saved into a CSV file named history.csv.\n",
    "\n",
    "However, the HTML file from Google Takeout did not provide all the details I wanted for my analysis. To enrich the dataset with additional information, I created another Python script named youtube_api.py. This script aimed to fill in the gaps by fetching more data through the YouTube Data API. For each video entry in history.csv, the script extracted the video ID from the URL. With the video ID in hand, the script made API requests to gather further details such as the video's duration, the number of likes and dislikes it had received, and the total number of comments. This additional data provided a more comprehensive view of each video that will allow us to perform deeper analysis.\n",
    "\n",
    "### Extraction Process\n",
    "\n",
    "1. **Google Takeout**:\n",
    "    - The initial dataset was downloaded from Google Takeout, which provided an HMTL file containing basic information about each video watched, including the video title, timestamp, link, and channel name.\n",
    "\n",
    "2. **YouTube API**:\n",
    "    - Using the video IDs extracted from the Google Takeout dataset, the YouTube Data API was used to retrieve additional information. \n",
    "    - A script was written in Python to interact with the YouTube Data API. This script performed the following steps:\n",
    "        1. **Authenticate**: Connect to the YouTube Data API using an API key.\n",
    "        2. **Request Data**: For each video ID, send a request to the YouTube API to fetch video details.\n",
    "        3. **Parse Response**: Extract relevant information from the API response, such as video tags, number of likes, number of comments, and other metadata.\n",
    "        4. **Merge Data**: Combine the additional information from the YouTube API with the original Google Takeout data to create a more comprehensive dataset and output it in a CSV file.\n",
    "\n",
    "## Project Structure\n",
    "\n",
    "- **Data Collection**: Scripts and notebooks for extracting and collecting data from Google Takeout.\n",
    "- **Data Cleaning**: Steps to clean and preprocess the data to ensure it is ready for analysis.\n",
    "- **Exploratory Data Analysis**: Notebooks containing analysis and visualizations to uncover insights and trends.\n",
    "- **Results**: Summary of findings and key takeaways from the analysis.\n",
    "\n",
    "## How to Use\n",
    "\n",
    "1. **Clone the Repository**: `git clone https://github.com/your-username/your-repository.git`\n",
    "2. **Install Dependencies**: `pip install -r requirements.txt`\n",
    "3. **Run Notebooks**: Open and run the Jupyter Notebooks to reproduce the analysis.\n",
    "\n",
    "## Requirements\n",
    "\n",
    "- Python 3.x\n",
    "- Jupyter Notebook\n",
    "- pandas\n",
    "- numpy\n",
    "- matplotlib\n",
    "- seaborn\n",
    "\n",
    "# Before we begin\n",
    "I'd like to inform you that the results and insights presented here might not fully correspond to realistic viewing habits due to several factors that can affect data integrity. For example, if you use multiple YouTube accounts, the data from just one account might not provide a complete picture. Additionally, there are other scenarios that can potentially impact the results, which I will mention as we go along.\n",
    "\n",
    "In my case, I only use one YouTube account, so all the videos I've watched are perfectly stored in the dataset. However, I still expect to encounter discrepancies due to other factors.\n"
   ],
   "id": "cccd885b981e9d53"
  },
  {
   "metadata": {},
   "cell_type": "markdown",
   "source": "## Import libraries",
   "id": "5eee275d5e10577b"
  },
  {
   "metadata": {
    "ExecuteTime": {
     "end_time": "2024-06-20T16:34:59.689910Z",
     "start_time": "2024-06-20T16:34:59.360500Z"
    }
   },
   "cell_type": "code",
   "source": [
    "import numpy as np\n",
    "import pandas as pd\n",
    "import matplotlib.pyplot as plt\n",
    "import seaborn as sns\n",
    "from collections import defaultdict\n",
    "import re\n",
    "from wordcloud import WordCloud\n",
    "from datetime import datetime, timedelta\n",
    "%matplotlib inline"
   ],
   "id": "504eaf4611bf43c0",
   "outputs": [],
   "execution_count": 1
  },
  {
   "metadata": {},
   "cell_type": "markdown",
   "source": "## Read the dataset on a dataframe",
   "id": "c621b38ac426f818"
  },
  {
   "metadata": {
    "ExecuteTime": {
     "end_time": "2024-06-20T16:36:35.026850Z",
     "start_time": "2024-06-20T16:36:34.782931Z"
    }
   },
   "cell_type": "code",
   "source": [
    "file = 'youtube_data.csv'\n",
    "df = pd.read_csv(file)"
   ],
   "id": "97ff7c180b21a63b",
   "outputs": [],
   "execution_count": 2
  },
  {
   "metadata": {
    "ExecuteTime": {
     "end_time": "2024-06-20T16:36:37.073035Z",
     "start_time": "2024-06-20T16:36:37.036851Z"
    }
   },
   "cell_type": "code",
   "source": [
    "# Let's take a peak at the dataset\n",
    "df.head(3)"
   ],
   "id": "863a4dbbd78e00ef",
   "outputs": [
    {
     "data": {
      "text/plain": [
       "                                               title  \\\n",
       "0  Vivaldi - Concerto No. 4 in F minor, Op. 8, RV...   \n",
       "1  F. Chopin : Nocturne in c sharp minor for viol...   \n",
       "2             Franz Liszt - Liebestraum - Love Dream   \n",
       "\n",
       "                                           url video_duration  \\\n",
       "0  https://www.youtube.com/watch?v=igYzAdRTd5c       00:09:31   \n",
       "1  https://www.youtube.com/watch?v=T7k2pmKUXxI       00:04:37   \n",
       "2  https://www.youtube.com/watch?v=KpOtuoHL45Y       00:05:51   \n",
       "\n",
       "       channel_name                                        channel_url  \\\n",
       "0    Joshua Galasse  https://www.youtube.com/channel/UCB7LdHQgEM2NG...   \n",
       "1      Gemma Violin  https://www.youtube.com/channel/UCMeR1_1ZOcfdG...   \n",
       "2  The Wicked North  https://www.youtube.com/channel/UC5I_q7gLdDoBn...   \n",
       "\n",
       "                   date_time    video_date_upload video_category  video_views  \\\n",
       "0  Jun 02, 2024, 11:40:50 PM  2018-08-25 00:57:15          Music    4696406.0   \n",
       "1  Jun 02, 2024, 11:36:13 PM  2016-01-14 18:58:06          Music   18908196.0   \n",
       "2  Jun 02, 2024, 11:30:21 PM  2008-10-24 06:12:47          Music   38690876.0   \n",
       "\n",
       "   video_likes  video_comment_count  \\\n",
       "0     134209.0               1514.0   \n",
       "1     389309.0               7301.0   \n",
       "2     322485.0              11437.0   \n",
       "\n",
       "                                   video_description  \\\n",
       "0  Joshua Galasse, Brussels Sinfonietta\\nRecorded...   \n",
       "1  #chopin #nocturne #violinpiano #version\\n\\n- C...   \n",
       "2  Liebesträume is a set of three solo piano work...   \n",
       "\n",
       "                                          video_tags  \n",
       "0  Joshua Galasse,vivaldi,L'inverno,4 seasons,violin  \n",
       "1  chopin,nocturne,violin,piano,duo,classicalmusi...  \n",
       "2  Franz,Liszt,Liebestraum,Love,Dream,classical,m...  "
      ],
      "text/html": [
       "<div>\n",
       "<style scoped>\n",
       "    .dataframe tbody tr th:only-of-type {\n",
       "        vertical-align: middle;\n",
       "    }\n",
       "\n",
       "    .dataframe tbody tr th {\n",
       "        vertical-align: top;\n",
       "    }\n",
       "\n",
       "    .dataframe thead th {\n",
       "        text-align: right;\n",
       "    }\n",
       "</style>\n",
       "<table border=\"1\" class=\"dataframe\">\n",
       "  <thead>\n",
       "    <tr style=\"text-align: right;\">\n",
       "      <th></th>\n",
       "      <th>title</th>\n",
       "      <th>url</th>\n",
       "      <th>video_duration</th>\n",
       "      <th>channel_name</th>\n",
       "      <th>channel_url</th>\n",
       "      <th>date_time</th>\n",
       "      <th>video_date_upload</th>\n",
       "      <th>video_category</th>\n",
       "      <th>video_views</th>\n",
       "      <th>video_likes</th>\n",
       "      <th>video_comment_count</th>\n",
       "      <th>video_description</th>\n",
       "      <th>video_tags</th>\n",
       "    </tr>\n",
       "  </thead>\n",
       "  <tbody>\n",
       "    <tr>\n",
       "      <th>0</th>\n",
       "      <td>Vivaldi - Concerto No. 4 in F minor, Op. 8, RV...</td>\n",
       "      <td>https://www.youtube.com/watch?v=igYzAdRTd5c</td>\n",
       "      <td>00:09:31</td>\n",
       "      <td>Joshua Galasse</td>\n",
       "      <td>https://www.youtube.com/channel/UCB7LdHQgEM2NG...</td>\n",
       "      <td>Jun 02, 2024, 11:40:50 PM</td>\n",
       "      <td>2018-08-25 00:57:15</td>\n",
       "      <td>Music</td>\n",
       "      <td>4696406.0</td>\n",
       "      <td>134209.0</td>\n",
       "      <td>1514.0</td>\n",
       "      <td>Joshua Galasse, Brussels Sinfonietta\\nRecorded...</td>\n",
       "      <td>Joshua Galasse,vivaldi,L'inverno,4 seasons,violin</td>\n",
       "    </tr>\n",
       "    <tr>\n",
       "      <th>1</th>\n",
       "      <td>F. Chopin : Nocturne in c sharp minor for viol...</td>\n",
       "      <td>https://www.youtube.com/watch?v=T7k2pmKUXxI</td>\n",
       "      <td>00:04:37</td>\n",
       "      <td>Gemma Violin</td>\n",
       "      <td>https://www.youtube.com/channel/UCMeR1_1ZOcfdG...</td>\n",
       "      <td>Jun 02, 2024, 11:36:13 PM</td>\n",
       "      <td>2016-01-14 18:58:06</td>\n",
       "      <td>Music</td>\n",
       "      <td>18908196.0</td>\n",
       "      <td>389309.0</td>\n",
       "      <td>7301.0</td>\n",
       "      <td>#chopin #nocturne #violinpiano #version\\n\\n- C...</td>\n",
       "      <td>chopin,nocturne,violin,piano,duo,classicalmusi...</td>\n",
       "    </tr>\n",
       "    <tr>\n",
       "      <th>2</th>\n",
       "      <td>Franz Liszt - Liebestraum - Love Dream</td>\n",
       "      <td>https://www.youtube.com/watch?v=KpOtuoHL45Y</td>\n",
       "      <td>00:05:51</td>\n",
       "      <td>The Wicked North</td>\n",
       "      <td>https://www.youtube.com/channel/UC5I_q7gLdDoBn...</td>\n",
       "      <td>Jun 02, 2024, 11:30:21 PM</td>\n",
       "      <td>2008-10-24 06:12:47</td>\n",
       "      <td>Music</td>\n",
       "      <td>38690876.0</td>\n",
       "      <td>322485.0</td>\n",
       "      <td>11437.0</td>\n",
       "      <td>Liebesträume is a set of three solo piano work...</td>\n",
       "      <td>Franz,Liszt,Liebestraum,Love,Dream,classical,m...</td>\n",
       "    </tr>\n",
       "  </tbody>\n",
       "</table>\n",
       "</div>"
      ]
     },
     "execution_count": 3,
     "metadata": {},
     "output_type": "execute_result"
    }
   ],
   "execution_count": 3
  },
  {
   "metadata": {
    "ExecuteTime": {
     "end_time": "2024-06-20T16:37:39.704562Z",
     "start_time": "2024-06-20T16:37:39.695327Z"
    }
   },
   "cell_type": "code",
   "source": "df.shape",
   "id": "7b3d6a9aa902aeb6",
   "outputs": [
    {
     "data": {
      "text/plain": [
       "(1847, 13)"
      ]
     },
     "execution_count": 4,
     "metadata": {},
     "output_type": "execute_result"
    }
   ],
   "execution_count": 4
  },
  {
   "metadata": {},
   "cell_type": "markdown",
   "source": [
    "### Interpretation\n",
    "\n",
    "There are a total of 1847 rows in the dataset each has 13 columns representing each video's categorical attributes."
   ],
   "id": "5b583219fcc83439"
  },
  {
   "metadata": {
    "ExecuteTime": {
     "end_time": "2024-06-20T16:40:30.277076Z",
     "start_time": "2024-06-20T16:40:30.249291Z"
    }
   },
   "cell_type": "code",
   "source": "df.info()",
   "id": "44bd25c2fd1c5ce9",
   "outputs": [
    {
     "name": "stdout",
     "output_type": "stream",
     "text": [
      "<class 'pandas.core.frame.DataFrame'>\n",
      "RangeIndex: 1847 entries, 0 to 1846\n",
      "Data columns (total 13 columns):\n",
      " #   Column               Non-Null Count  Dtype  \n",
      "---  ------               --------------  -----  \n",
      " 0   title                1847 non-null   object \n",
      " 1   url                  1847 non-null   object \n",
      " 2   video_duration       1844 non-null   object \n",
      " 3   channel_name         1847 non-null   object \n",
      " 4   channel_url          1847 non-null   object \n",
      " 5   date_time            1847 non-null   object \n",
      " 6   video_date_upload    1844 non-null   object \n",
      " 7   video_category       1844 non-null   object \n",
      " 8   video_views          1844 non-null   float64\n",
      " 9   video_likes          1844 non-null   float64\n",
      " 10  video_comment_count  1844 non-null   float64\n",
      " 11  video_description    1510 non-null   object \n",
      " 12  video_tags           1308 non-null   object \n",
      "dtypes: float64(3), object(10)\n",
      "memory usage: 187.7+ KB\n"
     ]
    }
   ],
   "execution_count": 6
  },
  {
   "metadata": {},
   "cell_type": "markdown",
   "source": "### Convert the columns that represent count times as integer(int64)",
   "id": "90ba89f895fc190e"
  },
  {
   "metadata": {
    "ExecuteTime": {
     "end_time": "2024-06-20T16:41:11.579103Z",
     "start_time": "2024-06-20T16:41:11.363727Z"
    }
   },
   "cell_type": "code",
   "source": [
    "# proceed on converting float64 elements into an int64 type\n",
    "int_columns = ['video_views', 'video_likes', 'video_comment_count']\n",
    "\n",
    "# Convert the specified columns to integer, keeping missing values as NaN\n",
    "for col in int_columns:\n",
    "    df[col] = pd.to_numeric(df[col], errors='coerce').astype('Int64')\n",
    "    \n",
    "# check updated data\n",
    "df.info()\n",
    "df.to_csv('youtube_data.csv', index=False)"
   ],
   "id": "708df8bf8d968bdf",
   "outputs": [
    {
     "name": "stdout",
     "output_type": "stream",
     "text": [
      "<class 'pandas.core.frame.DataFrame'>\n",
      "RangeIndex: 1847 entries, 0 to 1846\n",
      "Data columns (total 13 columns):\n",
      " #   Column               Non-Null Count  Dtype \n",
      "---  ------               --------------  ----- \n",
      " 0   title                1847 non-null   object\n",
      " 1   url                  1847 non-null   object\n",
      " 2   video_duration       1844 non-null   object\n",
      " 3   channel_name         1847 non-null   object\n",
      " 4   channel_url          1847 non-null   object\n",
      " 5   date_time            1847 non-null   object\n",
      " 6   video_date_upload    1844 non-null   object\n",
      " 7   video_category       1844 non-null   object\n",
      " 8   video_views          1844 non-null   Int64 \n",
      " 9   video_likes          1844 non-null   Int64 \n",
      " 10  video_comment_count  1844 non-null   Int64 \n",
      " 11  video_description    1510 non-null   object\n",
      " 12  video_tags           1308 non-null   object\n",
      "dtypes: Int64(3), object(10)\n",
      "memory usage: 193.1+ KB\n"
     ]
    }
   ],
   "execution_count": 7
  },
  {
   "metadata": {},
   "cell_type": "markdown",
   "source": [
    "Only columns for video description, comment count, and tags are optionally allowed to be empty, as some videos don't have any of them. It seems there are missing values in some rows because there is an inconsistency in the non-null count in the table above. This means our API script has failed to return further information on these specific videos. From my investigation, these videos have been removed or deleted on YouTube, which is why the YouTube API can't retrieve information such as like counts.\n",
    "\n",
    "The missing data is not due to an error in our data extraction process but rather reflects changes on the YouTube platform. It is common for YouTube videos to be removed or made private by the uploader over time. Unfortunately, this means that we won't be able to include these videos in our analysis. However, even if we drop them, we will still include them in the total video watched count."
   ],
   "id": "df58222cfbfa5a"
  },
  {
   "metadata": {
    "ExecuteTime": {
     "end_time": "2024-06-20T16:56:20.992175Z",
     "start_time": "2024-06-20T16:56:20.974958Z"
    }
   },
   "cell_type": "code",
   "source": [
    "# check for total misisng values for each column in dataframe\n",
    "df.isna().sum()"
   ],
   "id": "8b5adbeeba65c5e3",
   "outputs": [
    {
     "data": {
      "text/plain": [
       "title                    0\n",
       "url                      0\n",
       "video_duration           3\n",
       "channel_name             0\n",
       "channel_url              0\n",
       "date_time                0\n",
       "video_date_upload        3\n",
       "video_category           3\n",
       "video_views              3\n",
       "video_likes              3\n",
       "video_comment_count      3\n",
       "video_description      337\n",
       "video_tags             539\n",
       "dtype: int64"
      ]
     },
     "execution_count": 12,
     "metadata": {},
     "output_type": "execute_result"
    }
   ],
   "execution_count": 12
  },
  {
   "metadata": {
    "ExecuteTime": {
     "end_time": "2024-06-20T17:14:07.935830Z",
     "start_time": "2024-06-20T17:14:07.790335Z"
    }
   },
   "cell_type": "code",
   "source": [
    "# Drop rows with more than two null values.\n",
    "df.dropna(axis=0, thresh=len(df.columns) - 2, inplace=True)\n",
    "\n",
    "df.to_csv('youtube_data.csv', index=False)"
   ],
   "id": "955a02e107b0c8f4",
   "outputs": [],
   "execution_count": 14
  },
  {
   "metadata": {
    "ExecuteTime": {
     "end_time": "2024-06-20T17:14:47.298266Z",
     "start_time": "2024-06-20T17:14:47.289246Z"
    }
   },
   "cell_type": "code",
   "source": "df.reset_index(drop=True, inplace=True)",
   "id": "5d602fa3014e84ea",
   "outputs": [],
   "execution_count": 15
  },
  {
   "metadata": {},
   "cell_type": "markdown",
   "source": [
    "Moving forward, we will proceed with the remaining data, ensuring that only valid and relevant entries are included in our analysis. This step is crucial to maintaining the integrity and accuracy of our results.\n",
    "\n",
    "## Check for duplicate values\n",
    "\n",
    "It is expected that there might be some duplicates since I have watched similar videos. However, the duplicates we are concerned with are those where every value in the row is identical that indicates a true duplicate record.\n",
    "\n",
    "Let's check if there is."
   ],
   "id": "c337e17b32dff4d2"
  },
  {
   "metadata": {
    "ExecuteTime": {
     "end_time": "2024-06-20T17:19:38.919366Z",
     "start_time": "2024-06-20T17:19:38.897074Z"
    }
   },
   "cell_type": "code",
   "source": [
    "duplicated = df[df.duplicated(keep=False)]\n",
    "print(\"There are {} duplicated rows.\".format(len(duplicated)))"
   ],
   "id": "f44e181bf7a7866d",
   "outputs": [
    {
     "name": "stdout",
     "output_type": "stream",
     "text": [
      "There are 0 duplicated rows.\n"
     ]
    }
   ],
   "execution_count": 22
  },
  {
   "metadata": {},
   "cell_type": "markdown",
   "source": "### Let's try to get more insights to spot discrepancies in the data",
   "id": "a857b6b2ad49e6a9"
  },
  {
   "metadata": {
    "ExecuteTime": {
     "end_time": "2024-06-20T17:22:34.540324Z",
     "start_time": "2024-06-20T17:22:34.502092Z"
    }
   },
   "cell_type": "code",
   "source": [
    "# Set the display option to show the full numerical values\n",
    "pd.set_option('display.float_format', '{:.2f}'.format)\n",
    "\n",
    "# display full numerical values\n",
    "df.describe()"
   ],
   "id": "20dc04778e08f25",
   "outputs": [
    {
     "data": {
      "text/plain": [
       "        video_views  video_likes  video_comment_count\n",
       "count       1844.00      1844.00              1844.00\n",
       "mean    23085394.09    489706.05              8020.03\n",
       "std     92565986.97   1526365.10             57320.82\n",
       "min            9.00         0.00                 0.00\n",
       "25%       440013.00      9787.25               283.00\n",
       "50%      3937933.00     77593.50              1727.00\n",
       "75%     18324309.00    317084.00              7114.00\n",
       "max   1793508392.00  18853862.00           2341878.00"
      ],
      "text/html": [
       "<div>\n",
       "<style scoped>\n",
       "    .dataframe tbody tr th:only-of-type {\n",
       "        vertical-align: middle;\n",
       "    }\n",
       "\n",
       "    .dataframe tbody tr th {\n",
       "        vertical-align: top;\n",
       "    }\n",
       "\n",
       "    .dataframe thead th {\n",
       "        text-align: right;\n",
       "    }\n",
       "</style>\n",
       "<table border=\"1\" class=\"dataframe\">\n",
       "  <thead>\n",
       "    <tr style=\"text-align: right;\">\n",
       "      <th></th>\n",
       "      <th>video_views</th>\n",
       "      <th>video_likes</th>\n",
       "      <th>video_comment_count</th>\n",
       "    </tr>\n",
       "  </thead>\n",
       "  <tbody>\n",
       "    <tr>\n",
       "      <th>count</th>\n",
       "      <td>1844.00</td>\n",
       "      <td>1844.00</td>\n",
       "      <td>1844.00</td>\n",
       "    </tr>\n",
       "    <tr>\n",
       "      <th>mean</th>\n",
       "      <td>23085394.09</td>\n",
       "      <td>489706.05</td>\n",
       "      <td>8020.03</td>\n",
       "    </tr>\n",
       "    <tr>\n",
       "      <th>std</th>\n",
       "      <td>92565986.97</td>\n",
       "      <td>1526365.10</td>\n",
       "      <td>57320.82</td>\n",
       "    </tr>\n",
       "    <tr>\n",
       "      <th>min</th>\n",
       "      <td>9.00</td>\n",
       "      <td>0.00</td>\n",
       "      <td>0.00</td>\n",
       "    </tr>\n",
       "    <tr>\n",
       "      <th>25%</th>\n",
       "      <td>440013.00</td>\n",
       "      <td>9787.25</td>\n",
       "      <td>283.00</td>\n",
       "    </tr>\n",
       "    <tr>\n",
       "      <th>50%</th>\n",
       "      <td>3937933.00</td>\n",
       "      <td>77593.50</td>\n",
       "      <td>1727.00</td>\n",
       "    </tr>\n",
       "    <tr>\n",
       "      <th>75%</th>\n",
       "      <td>18324309.00</td>\n",
       "      <td>317084.00</td>\n",
       "      <td>7114.00</td>\n",
       "    </tr>\n",
       "    <tr>\n",
       "      <th>max</th>\n",
       "      <td>1793508392.00</td>\n",
       "      <td>18853862.00</td>\n",
       "      <td>2341878.00</td>\n",
       "    </tr>\n",
       "  </tbody>\n",
       "</table>\n",
       "</div>"
      ]
     },
     "execution_count": 24,
     "metadata": {},
     "output_type": "execute_result"
    }
   ],
   "execution_count": 24
  },
  {
   "metadata": {},
   "cell_type": "markdown",
   "source": [
    "## Exploratory Data Analysis\n",
    "\n",
    "Now that we've standardized and cleaned the data to ensure its accuracy and consistency, it's time to begin into an exploratory data analysis (EDA) to extract meaningful insights from our YouTube history.\n",
    "\n",
    "In this section, we will explore various aspects of the data to gain a better understanding. Specifically, we will:\n",
    "\n",
    "Explore Descriptive Analysis\n",
    "\n",
    "1. **Determine the start-date and end-date**\n",
    "2. **Determine the number of videos watched for each week given the timeframe**\n",
    "3. **Determine the specific days when the most videos were watched**\n",
    "4. **Calculate the average video watched per day**\n",
    "5. **Identify the top 10 most viewed video watched on YouTube in my history from the past three months**\n",
    "6. **Plot the ratio between regular YouTube videos and YouTube shorts**\n",
    "7. **Determine the average watch of regular YouTube videos and YouTube shorts per day**\n",
    "8. **Determine the most favorite YouTube Videos by the number of times they were watched and by each month.** \n",
    "9. **Identify the most common keyword or substring on all video titles, tags, and description**\n",
    "10. **Identify the most favorite channels**\n",
    "11. **Determine the longest timeframe when you haven't watched on YouTube**\n",
    "12. **Identify the Oldest Video uploaded on YouTube in your watch history**\n",
    "13. **Discover the most liked and most commented videos on YouTube in your watch history**\n",
    "14. **Find out youtube videos which where posted the same day as your birthday**\n",
    "15. **Determine the videos with the longest duration**\n",
    "\n",
    "Personalized analysis\n",
    "1. **What time do you often watch on YouTube?**\n",
    "2. **What day of the week do you often watch on YouTube?**\n",
    "\n",
    "\n"
   ],
   "id": "46001aebdacf4dcb"
  },
  {
   "metadata": {},
   "cell_type": "markdown",
   "source": "## Determine the start date and end date",
   "id": "8e6a72b04ef8ec2d"
  },
  {
   "metadata": {
    "ExecuteTime": {
     "end_time": "2024-06-20T20:48:11.270341Z",
     "start_time": "2024-06-20T20:48:10.313919Z"
    }
   },
   "cell_type": "code",
   "source": [
    "# The YouTube data is sorted in date from newest to oldest\n",
    "start_date = df.iloc[-1]['date_time']\n",
    "end_date = df.iloc[0]['date_time']\n",
    "\n",
    "print(\"Start date: \", start_date)\n",
    "print(\"End date: \", end_date)"
   ],
   "id": "2824f477e4e0deb6",
   "outputs": [
    {
     "name": "stdout",
     "output_type": "stream",
     "text": [
      "Start date:  Feb 20, 2024, 06:17:15 AM\n",
      "End date:  Jun 02, 2024, 11:40:50 PM\n"
     ]
    }
   ],
   "execution_count": 26
  },
  {
   "metadata": {},
   "cell_type": "markdown",
   "source": "## Determine the number of videos watched for each week",
   "id": "9343590c8b3b91b1"
  },
  {
   "metadata": {
    "ExecuteTime": {
     "end_time": "2024-06-20T22:17:09.993407Z",
     "start_time": "2024-06-20T22:17:08.867351Z"
    }
   },
   "cell_type": "code",
   "source": [
    "import matplotlib.dates as mdates\n",
    "# Sort from oldest to newest\n",
    "df_sorted = df.sort_values(by='date_time')\n",
    "\n",
    "df_sorted['date_time'] = pd.to_datetime(df_sorted['date_time'])\n",
    "\n",
    "# Set the 'date_time' column as the index\n",
    "df_sorted.set_index('date_time', inplace=True)\n",
    "\n",
    "# Resample the data by week and count the occurrences\n",
    "weekly_counts = df_sorted.resample('W').size()\n",
    "# Reset the index to make the 'date_time' column again\n",
    "weekly_counts = weekly_counts.reset_index(name='frequency')\n",
    "# Display the result\n",
    "# Extract week numbers and frequencies for plotting\n",
    "weekly_counts['week_number'] = weekly_counts['date_time'].dt.isocalendar().week\n",
    "weeks = weekly_counts['week_number']\n",
    "dates = weekly_counts['date_time'].astype('str')\n",
    "videos = weekly_counts['frequency']\n",
    "\n",
    "# Customize the graph to show\n",
    "plt.figure(figsize=(12, 6), facecolor='white')\n",
    "plt.title('Number of YouTube Videos Watched For Each Week', size=20)\n",
    "plt.ylabel('Total Number of Videos Watched')\n",
    "plt.xticks(rotation=60)\n",
    "# Plot as a bar chart\n",
    "plt.plot(dates, videos, color='red')\n",
    "plt.show()"
   ],
   "id": "8c8246266f0cd09b",
   "outputs": [
    {
     "data": {
      "text/plain": [
       "<Figure size 1200x600 with 1 Axes>"
      ],
      "image/png": "[encoded data removed]"
     },
     "metadata": {},
     "output_type": "display_data"
    }
   ],
   "execution_count": 109
  },
  {
   "metadata": {},
   "cell_type": "markdown",
   "source": "## Determine the specific days when the most videos were watched (regardless of whether some videos were re-watched)",
   "id": "e73ace4b161b625"
  },
  {
   "metadata": {
    "ExecuteTime": {
     "end_time": "2024-06-20T22:22:11.448155Z",
     "start_time": "2024-06-20T22:22:11.311277Z"
    }
   },
   "cell_type": "code",
   "source": [
    "# Sort from oldest to newest\n",
    "df_sorted = df.sort_values(by='date_time')\n",
    "\n",
    "df_sorted['date_time'] = pd.to_datetime(df_sorted['date_time'])\n",
    "\n",
    "# Set the 'date_time' column as the index\n",
    "df_sorted.set_index('date_time', inplace=True)\n",
    "# Resample the data by dat and count the occurrences\n",
    "daily_counts = df_sorted.resample('D').size()\n",
    "# Reset the index to make the 'date_time' column again\n",
    "daily_counts = daily_counts.reset_index(name='frequency')\n",
    "\n",
    "daily_counts.sort_values('frequency', ascending=False)[:5]\n"
   ],
   "id": "41f39ddd89b2de48",
   "outputs": [
    {
     "data": {
      "text/plain": [
       "     date_time  frequency\n",
       "99  2024-05-29        171\n",
       "43  2024-04-03         76\n",
       "36  2024-03-27         58\n",
       "101 2024-05-31         56\n",
       "51  2024-04-11         55"
      ],
      "text/html": [
       "<div>\n",
       "<style scoped>\n",
       "    .dataframe tbody tr th:only-of-type {\n",
       "        vertical-align: middle;\n",
       "    }\n",
       "\n",
       "    .dataframe tbody tr th {\n",
       "        vertical-align: top;\n",
       "    }\n",
       "\n",
       "    .dataframe thead th {\n",
       "        text-align: right;\n",
       "    }\n",
       "</style>\n",
       "<table border=\"1\" class=\"dataframe\">\n",
       "  <thead>\n",
       "    <tr style=\"text-align: right;\">\n",
       "      <th></th>\n",
       "      <th>date_time</th>\n",
       "      <th>frequency</th>\n",
       "    </tr>\n",
       "  </thead>\n",
       "  <tbody>\n",
       "    <tr>\n",
       "      <th>99</th>\n",
       "      <td>2024-05-29</td>\n",
       "      <td>171</td>\n",
       "    </tr>\n",
       "    <tr>\n",
       "      <th>43</th>\n",
       "      <td>2024-04-03</td>\n",
       "      <td>76</td>\n",
       "    </tr>\n",
       "    <tr>\n",
       "      <th>36</th>\n",
       "      <td>2024-03-27</td>\n",
       "      <td>58</td>\n",
       "    </tr>\n",
       "    <tr>\n",
       "      <th>101</th>\n",
       "      <td>2024-05-31</td>\n",
       "      <td>56</td>\n",
       "    </tr>\n",
       "    <tr>\n",
       "      <th>51</th>\n",
       "      <td>2024-04-11</td>\n",
       "      <td>55</td>\n",
       "    </tr>\n",
       "  </tbody>\n",
       "</table>\n",
       "</div>"
      ]
     },
     "execution_count": 119,
     "metadata": {},
     "output_type": "execute_result"
    }
   ],
   "execution_count": 119
  },
  {
   "metadata": {},
   "cell_type": "markdown",
   "source": "## Calculate the average watch per day",
   "id": "387fbcad3a5e0611"
  },
  {
   "metadata": {
    "ExecuteTime": {
     "end_time": "2024-06-20T22:28:55.164512Z",
     "start_time": "2024-06-20T22:28:55.156532Z"
    }
   },
   "cell_type": "code",
   "source": "print(f\"The average number of videos watched per day from February 20 to June 02, 2024, is {round(daily_counts['frequency'].mean())} videos.\")",
   "id": "b45d37aea3dc5d72",
   "outputs": [
    {
     "name": "stdout",
     "output_type": "stream",
     "text": [
      "The average number of videos watched per day from February 20 to June 02, 2024, is 18 videos.\n"
     ]
    }
   ],
   "execution_count": 126
  },
  {
   "metadata": {},
   "cell_type": "markdown",
   "source": [
    "## Identify the top 10 most viewed video watched on YouTube in my history from the past three months\n",
    "\n",
    "Excluding YouTube Shorts or technically short videos"
   ],
   "id": "d90cb646ce0c9095"
  },
  {
   "metadata": {
    "ExecuteTime": {
     "end_time": "2024-06-20T22:45:03.962907Z",
     "start_time": "2024-06-20T22:45:03.932775Z"
    }
   },
   "cell_type": "code",
   "source": [
    "# Apply condition to filter the rows\n",
    "condition = ((df_sorted['title'].str.contains('#shorts', case=False)) |\n",
    "             (pd.to_timedelta(df_sorted['video_duration']).dt.total_seconds() <= 61))\n",
    "\n",
    "# Only include the YouTube Regular Videos, negate the condition\n",
    "filtered_df = df_sorted[~condition].reset_index(drop=True)\n",
    "filtered_df = filtered_df.drop_duplicates(subset='title', keep='first')\n",
    "filtered_df.sort_values('video_views', ascending=False)[['title', 'video_views']][:10]"
   ],
   "id": "12d97a76c7d3c83e",
   "outputs": [
    {
     "data": {
      "text/plain": [
       "                                                  title  video_views\n",
       "160    4 Non Blondes - What's Up (Official Music Video)   1793508392\n",
       "164   In The End [Official HD Music Video] - Linkin ...   1785079284\n",
       "514   Rick Astley - Never Gonna Give You Up (Officia...   1546359981\n",
       "163   Evanescence - Bring Me To Life (Official HD Mu...   1380041318\n",
       "705   BLACKPINK - '뚜두뚜두 (DDU-DU DDU-DU)' DANCE PRACT...    501677991\n",
       "161     The Cranberries - Linger (Official Music Video)    467786407\n",
       "704   BLACKPINK - '붐바야(BOOMBAYAH)' DANCE PRACTICE VIDEO    313076452\n",
       "1100                             Four Seasons ~ Vivaldi    259340236\n",
       "545                                  The Best of Mozart    259311782\n",
       "788   Michael Bublé - Feeling Good [Official 4K Rema...    250843011"
      ],
      "text/html": [
       "<div>\n",
       "<style scoped>\n",
       "    .dataframe tbody tr th:only-of-type {\n",
       "        vertical-align: middle;\n",
       "    }\n",
       "\n",
       "    .dataframe tbody tr th {\n",
       "        vertical-align: top;\n",
       "    }\n",
       "\n",
       "    .dataframe thead th {\n",
       "        text-align: right;\n",
       "    }\n",
       "</style>\n",
       "<table border=\"1\" class=\"dataframe\">\n",
       "  <thead>\n",
       "    <tr style=\"text-align: right;\">\n",
       "      <th></th>\n",
       "      <th>title</th>\n",
       "      <th>video_views</th>\n",
       "    </tr>\n",
       "  </thead>\n",
       "  <tbody>\n",
       "    <tr>\n",
       "      <th>160</th>\n",
       "      <td>4 Non Blondes - What's Up (Official Music Video)</td>\n",
       "      <td>1793508392</td>\n",
       "    </tr>\n",
       "    <tr>\n",
       "      <th>164</th>\n",
       "      <td>In The End [Official HD Music Video] - Linkin ...</td>\n",
       "      <td>1785079284</td>\n",
       "    </tr>\n",
       "    <tr>\n",
       "      <th>514</th>\n",
       "      <td>Rick Astley - Never Gonna Give You Up (Officia...</td>\n",
       "      <td>1546359981</td>\n",
       "    </tr>\n",
       "    <tr>\n",
       "      <th>163</th>\n",
       "      <td>Evanescence - Bring Me To Life (Official HD Mu...</td>\n",
       "      <td>1380041318</td>\n",
       "    </tr>\n",
       "    <tr>\n",
       "      <th>705</th>\n",
       "      <td>BLACKPINK - '뚜두뚜두 (DDU-DU DDU-DU)' DANCE PRACT...</td>\n",
       "      <td>501677991</td>\n",
       "    </tr>\n",
       "    <tr>\n",
       "      <th>161</th>\n",
       "      <td>The Cranberries - Linger (Official Music Video)</td>\n",
       "      <td>467786407</td>\n",
       "    </tr>\n",
       "    <tr>\n",
       "      <th>704</th>\n",
       "      <td>BLACKPINK - '붐바야(BOOMBAYAH)' DANCE PRACTICE VIDEO</td>\n",
       "      <td>313076452</td>\n",
       "    </tr>\n",
       "    <tr>\n",
       "      <th>1100</th>\n",
       "      <td>Four Seasons ~ Vivaldi</td>\n",
       "      <td>259340236</td>\n",
       "    </tr>\n",
       "    <tr>\n",
       "      <th>545</th>\n",
       "      <td>The Best of Mozart</td>\n",
       "      <td>259311782</td>\n",
       "    </tr>\n",
       "    <tr>\n",
       "      <th>788</th>\n",
       "      <td>Michael Bublé - Feeling Good [Official 4K Rema...</td>\n",
       "      <td>250843011</td>\n",
       "    </tr>\n",
       "  </tbody>\n",
       "</table>\n",
       "</div>"
      ]
     },
     "execution_count": 136,
     "metadata": {},
     "output_type": "execute_result"
    }
   ],
   "execution_count": 136
  },
  {
   "metadata": {},
   "cell_type": "markdown",
   "source": "## Plot the ratio between regular YouTube videos and YouTube shorts",
   "id": "52882f70a9be2f6e"
  },
  {
   "metadata": {
    "ExecuteTime": {
     "end_time": "2024-06-20T22:52:34.147936Z",
     "start_time": "2024-06-20T22:52:33.666215Z"
    }
   },
   "cell_type": "code",
   "source": [
    "normal_or_shorts = df[['title', 'video_duration']]\n",
    "\n",
    "video_shorts_count = ((df['title'].str.contains('#shorts', case=False)) |\n",
    "         (pd.to_timedelta(df['video_duration']).dt.total_seconds() <= 61)).sum()\n",
    "\n",
    "video_normal_count = normal_or_shorts.shape[0] - video_shorts_count\n",
    "\n",
    "counts = [video_normal_count, video_shorts_count]\n",
    "# Create a pie chart\n",
    "plt.figure(figsize=(12, 6))\n",
    "plt.pie(counts, labels=['Regular YouTube Videos', 'YouTube Shorts'], autopct='%1.1f%%', startangle=140)\n",
    "plt.title('Ratio of Regular YouTube Videos to YouTube Shorts')\n",
    "plt.axis('equal')  # Equal aspect ratio ensures that pie is drawn as a circle\n",
    "plt.show()"
   ],
   "id": "e661907f7f4ac600",
   "outputs": [
    {
     "data": {
      "text/plain": [
       "<Figure size 1200x600 with 1 Axes>"
      ],
      "image/png": "[encoded data removed]"
     },
     "metadata": {},
     "output_type": "display_data"
    }
   ],
   "execution_count": 137
  },
  {
   "metadata": {},
   "cell_type": "code",
   "outputs": [],
   "execution_count": null,
   "source": "",
   "id": "1f96b1203425a82c"
  }
 ],
 "metadata": {
  "kernelspec": {
   "display_name": "Python 3",
   "language": "python",
   "name": "python3"
  },
  "language_info": {
   "codemirror_mode": {
    "name": "ipython",
    "version": 2
   },
   "file_extension": ".py",
   "mimetype": "text/x-python",
   "name": "python",
   "nbconvert_exporter": "python",
   "pygments_lexer": "ipython2",
   "version": "2.7.6"
  }
 },
 "nbformat": 4,
 "nbformat_minor": 5
}
